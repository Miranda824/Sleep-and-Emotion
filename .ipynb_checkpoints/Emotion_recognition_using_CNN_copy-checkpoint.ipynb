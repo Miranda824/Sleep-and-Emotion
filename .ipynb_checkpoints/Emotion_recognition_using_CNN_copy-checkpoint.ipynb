{
 "cells": [
  {
   "cell_type": "markdown",
   "metadata": {
    "colab_type": "text",
    "id": "view-in-github"
   },
   "source": [
    "<a href=\"https://colab.research.google.com/github/siddhi5386/Emotion-Recognition-from-brain-EEG-signals-/blob/master/Emotion_recognition_from_brain_signals_using_CNN.ipynb\" target=\"_parent\"><img src=\"https://colab.research.google.com/assets/colab-badge.svg\" alt=\"Open In Colab\"/></a>"
   ]
  },
  {
   "cell_type": "code",
   "execution_count": 31,
   "metadata": {
    "colab": {
     "base_uri": "https://localhost:8080/",
     "height": 204
    },
    "colab_type": "code",
    "id": "4ZgJPO-bvo4B",
    "outputId": "b90a7a30-2a80-4430-8d64-32b708b5619d"
   },
   "outputs": [],
   "source": [
    "import numpy as np\n",
    "import pyeeg as pe\n",
    "import pickle as pickle\n",
    "import pandas as pd\n",
    "import math\n",
    "import os\n",
    "os.environ['TF_CPP_MIN_LOG_LEVEL'] = '2'\n",
    "from sklearn import svm\n",
    "from sklearn.preprocessing import normalize\n",
    "from sklearn.ensemble import RandomForestRegressor\n",
    "from sklearn.ensemble import AdaBoostRegressor\n",
    "\n",
    "import tensorflow as tf\n",
    "import time\n"
   ]
  },
  {
   "cell_type": "code",
   "execution_count": 32,
   "metadata": {},
   "outputs": [],
   "source": [
    "def label_mapping(valence, arousal):\n",
    "    # HVHA, HVLA, LVHA, and LVLA\n",
    "    \n",
    "    if (valence > 5 and arousal > 5):\n",
    "        label = 1 #'HVHA'\n",
    "    elif (valence > 5 and arousal <= 5):\n",
    "        label = 0 #'HVLA'\n",
    "    elif (valence <= 5 and arousal > 5):\n",
    "        label = 0 #'LVHA'\n",
    "    elif (valence <= 5 and arousal <= 5):\n",
    "        label = 0 #'LVLA'\n",
    "    \n",
    "    return label\n",
    "def map_label(label):\n",
    "    new_label = label_mapping(label[0], label[1]) \n",
    "    return new_label"
   ]
  },
  {
   "cell_type": "code",
   "execution_count": 33,
   "metadata": {
    "colab": {},
    "colab_type": "code",
    "id": "kCMT74t9wowG"
   },
   "outputs": [],
   "source": [
    "# channel = [1,2,3,4,6,11,13,17,19,20,21,25,29,31] #14 Channels chosen to fit Emotiv Epoch+\n",
    "# band = [4,8,12,16,25,45] #5 bands\n",
    "# window_size = 256 #Averaging band power of 2 sec\n",
    "# step_size = 16 #Each 0.125 sec update once\n",
    "# sample_rate = 128 #Sampling rate of 128 Hz\n",
    "# subjectList = ['01','02','03']\n",
    "#List of subjects"
   ]
  },
  {
   "cell_type": "code",
   "execution_count": 34,
   "metadata": {},
   "outputs": [],
   "source": [
    "# 定义全局变量\n",
    "# channel = [1] #14 Channels chosen to fit Emotiv Epoch+\n",
    "# band = [4,8,12,16,25,45] #5 bands\n",
    "# # window_size = 256 #Averaging band power of 2 sec\n",
    "# step_size = 16 #Each 0.125 sec update once\n",
    "# sample_rate = 128 #Sampling rate of 128 Hz\n",
    "# subjectList = ['01', '02', '03', '04', '05', '06', '07', '08', '09', '10', '11', '12', '13', '14', '15', '16', '17',\n",
    "#                '18', '19', '20', '21', '22', '23', '24', '25', '26', '27', '28', '29', '30', '31', '32']\n",
    "# # List of subjects\n",
    "\n",
    "\n",
    "# # FFT with pyeeg\n",
    "# def FFT_Processing(sub, channel, band, window_size, step_size, sample_rate):\n",
    "#     meta = []\n",
    "#     file_path = \"D:\\sleep111\\DEAP\\data_preprocessed_python\"\n",
    "#     file_name = 's' + sub + '.dat'\n",
    "#     file_full_path = os.path.join(file_path, file_name)\n",
    "#     with open(file_full_path, 'rb') as file:\n",
    "\n",
    "#         subject = pickle.load(file, encoding='latin1')  # resolve the python 2 data problem by encoding : latin1\n",
    "\n",
    "#         for i in range(0, 40):\n",
    "#             # loop over 0-39 trails\n",
    "#             data = subject[\"data\"][i]\n",
    "#             labels = subject[\"labels\"][i]\n",
    "#             start = 0 \n",
    "\n",
    "#             while start + window_size < data.shape[1]:\n",
    "#                 meta_array = []\n",
    "#                 meta_data = []  # meta vector for analysis\n",
    "#                 for j in channel:\n",
    "#                     X = data[j][start: start + window_size]  # Slice raw data over 2 sec, at interval of 0.125 sec以0.125秒为间隔，在2秒内对原始数据进行切片\n",
    "#                     Y = pe.bin_power(X, band,\n",
    "#                                      sample_rate)  # FFT over 2 sec of channel j, in seq of theta, alpha, low beta, high beta, gamma\n",
    "#                     meta_data = meta_data + list(Y[0])\n",
    "\n",
    "#                 meta_array.append(np.array(meta_data))\n",
    "#                 meta_array.append(labels)\n",
    "\n",
    "#                 meta.append(np.array(meta_array, dtype=object))\n",
    "#                 start = start + step_size\n",
    "\n",
    "#         meta = np.array(meta)\n",
    "#         np.save('out' + sub, meta, allow_pickle=True, fix_imports=True)\n",
    "\n",
    "\n",
    "# for subjects in subjectList:\n",
    "#     FFT_Processing(subjects, channel, band, window_size, step_size, sample_rate)\n",
    "\n",
    "# # 数据划分\n",
    "# # training dataset: 75 %\n",
    "# # validation dataset: 12.5%\n",
    "# # testing dataset: 12.5%\n",
    "\n",
    "# data_training = []\n",
    "# label_training = []\n",
    "# data_testing = []\n",
    "# label_testing = []\n",
    "# data_validation = []\n",
    "# label_validation = []\n",
    "\n",
    "# for subjects in subjectList:\n",
    "#     file_path = r\"./\"\n",
    "#     with open(file_path + '\\out' + subjects + '.npy', 'rb') as file:\n",
    "#         sub = np.load(file, allow_pickle=True)\n",
    "#         for i in range(0, sub.shape[0]):\n",
    "#             if i % 8 == 0:\n",
    "#                 data_testing.append(sub[i][0])\n",
    "#                 label_testing.append(sub[i][1])\n",
    "#             elif i % 8 == 1:\n",
    "#                 data_validation.append(sub[i][0])\n",
    "#                 label_validation.append(sub[i][1])\n",
    "#             else:\n",
    "#                 data_training.append(sub[i][0])\n",
    "#                 label_training.append(sub[i][1])\n",
    "# # for subjects in subjectList:\n",
    "# #     file_path = \"./\"\n",
    "# #     file_name = 'out' + subjects + '.npy'\n",
    "# #     file_full_path = os.path.join(file_path, file_name)\n",
    "\n",
    "# #     with open(file_full_path, 'rb') as file:\n",
    "\n",
    "# #       sub = np.load(file,allow_pickle=True)\n",
    "# #       for i in range (0,sub.shape[0]):\n",
    "# #         if i % 5 == 0:\n",
    "# #           data_testing.append(sub[i][0])\n",
    "# #           label_testing.append(sub[i][1])\n",
    "# #         else:\n",
    "# #           data_training.append(sub[i][0])\n",
    "# #           label_training.append(sub[i][1])\n",
    "\n",
    "# np.save('data_training', np.array(data_training), allow_pickle=True, fix_imports=True)\n",
    "# np.save('label_training', np.array(label_training), allow_pickle=True, fix_imports=True)\n",
    "# print(\"training dataset:\", np.array(data_training).shape, np.array(label_training).shape)\n",
    "\n",
    "# np.save('data_testing', np.array(data_testing), allow_pickle=True, fix_imports=True)\n",
    "# np.save('label_testing', np.array(label_testing), allow_pickle=True, fix_imports=True)\n",
    "# print(\"testing dataset:\", np.array(data_testing).shape, np.array(label_testing).shape)"
   ]
  },
  {
   "cell_type": "raw",
   "metadata": {
    "scrolled": true
   },
   "source": [
    "# 定义全局变量\n",
    "# channel = [1] #14 Channels chosen to fit Emotiv Epoch+\n",
    "# band = [4,8,12,16,25,45] #5 bands\n",
    "# window_size = 256 #Averaging band power of 2 sec\n",
    "# step_size = 16 #Each 0.125 sec update once\n",
    "# sample_rate = 128 #Sampling rate of 128 Hz\n",
    "# subjectList = ['01', '02', '03', '04', '05', '06', '07', '08', '09', '10', '11', '12', '13', '14', '15', '16', '17',\n",
    "#                '18', '19', '20', '21', '22', '23', '24', '25', '26', '27', '28', '29', '30', '31', '32']\n",
    "# # List of subjects\n",
    "\n",
    "\n",
    "# # FFT with pyeeg\n",
    "# def FFT_Processing(sub, channel, band, window_size, step_size, sample_rate):\n",
    "#     meta = []\n",
    "#     file_path = \"D:\\sleep111\\DEAP\\data_preprocessed_python\"\n",
    "#     file_name = 's' + sub + '.dat'\n",
    "#     file_full_path = os.path.join(file_path, file_name)\n",
    "#     with open(file_full_path, 'rb') as file:\n",
    "\n",
    "#         subject = pickle.load(file, encoding='latin1')  # resolve the python 2 data problem by encoding : latin1\n",
    "\n",
    "#         for i in range(0, 40):\n",
    "#             # loop over 0-39 trails\n",
    "#             data = subject[\"data\"][i]\n",
    "#             labels = subject[\"labels\"][i]\n",
    "#             start = 0 \n",
    "\n",
    "#             while start + window_size < data.shape[1]:\n",
    "#                 meta_array = []\n",
    "#                 meta_data = []  # meta vector for analysis\n",
    "#                 for j in channel:\n",
    "#                     X = data[j][start: start + window_size]  # Slice raw data over 2 sec, at interval of 0.125 sec以0.125秒为间隔，在2秒内对原始数据进行切片\n",
    "#                     Y = pe.bin_power(X, band,\n",
    "#                                      sample_rate)  # FFT over 2 sec of channel j, in seq of theta, alpha, low beta, high beta, gamma\n",
    "#                     meta_data = meta_data + list(Y[0])\n",
    "\n",
    "#                 meta_array.append(np.array(meta_data))\n",
    "#                 meta_array.append(labels)\n",
    "\n",
    "#                 meta.append(np.array(meta_array, dtype=object))\n",
    "#                 start = start + step_size\n",
    "\n",
    "#         meta = np.array(meta)\n",
    "#         np.save('out' + sub, meta, allow_pickle=True, fix_imports=True)\n",
    "\n",
    "\n",
    "# for subjects in subjectList:\n",
    "#     FFT_Processing(subjects, channel, band, window_size, step_size, sample_rate)\n",
    "\n",
    "# # 数据划分\n",
    "# # training dataset: 75 %\n",
    "# # validation dataset: 12.5%\n",
    "# # testing dataset: 12.5%\n",
    "\n",
    "# data_training = []\n",
    "# label_training = []\n",
    "# data_testing = []\n",
    "# label_testing = []\n",
    "# data_validation = []\n",
    "# label_validation = []\n",
    "\n",
    "# for subjects in subjectList:\n",
    "#     file_path = r\"./\"\n",
    "#     with open(file_path + '\\out' + subjects + '.npy', 'rb') as file:\n",
    "#         sub = np.load(file, allow_pickle=True)\n",
    "#         for i in range(0, sub.shape[0]):\n",
    "#             if i % 8 == 0:\n",
    "#                 data_testing.append(sub[i][0])\n",
    "#                 label_testing.append(sub[i][1])\n",
    "#             elif i % 8 == 1:\n",
    "#                 data_validation.append(sub[i][0])\n",
    "#                 label_validation.append(sub[i][1])\n",
    "#             else:\n",
    "#                 data_training.append(sub[i][0])\n",
    "#                 label_training.append(sub[i][1])\n",
    "# # for subjects in subjectList:\n",
    "# #     file_path = \"./\"\n",
    "# #     file_name = 'out' + subjects + '.npy'\n",
    "# #     file_full_path = os.path.join(file_path, file_name)\n",
    "\n",
    "# #     with open(file_full_path, 'rb') as file:\n",
    "\n",
    "# #       sub = np.load(file,allow_pickle=True)\n",
    "# #       for i in range (0,sub.shape[0]):\n",
    "# #         if i % 5 == 0:\n",
    "# #           data_testing.append(sub[i][0])\n",
    "# #           label_testing.append(sub[i][1])\n",
    "# #         else:\n",
    "# #           data_training.append(sub[i][0])\n",
    "# #           label_training.append(sub[i][1])\n",
    "\n",
    "# np.save('data_training', np.array(data_training), allow_pickle=True, fix_imports=True)\n",
    "# np.save('label_training', np.array(label_training), allow_pickle=True, fix_imports=True)\n",
    "# print(\"training dataset:\", np.array(data_training).shape, np.array(label_training).shape)\n",
    "\n",
    "# np.save('data_testing', np.array(data_testing), allow_pickle=True, fix_imports=True)\n",
    "# np.save('label_testing', np.array(label_testing), allow_pickle=True, fix_imports=True)\n",
    "# print(\"testing dataset:\", np.array(data_testing).shape, np.array(label_testing).shape)"
   ]
  },
  {
   "cell_type": "code",
   "execution_count": null,
   "metadata": {},
   "outputs": [],
   "source": []
  },
  {
   "cell_type": "code",
   "execution_count": 79,
   "metadata": {
    "colab": {},
    "colab_type": "code",
    "id": "pnNNgiBN_HcS"
   },
   "outputs": [
    {
     "name": "stdout",
     "output_type": "stream",
     "text": [
      "(468480, 4)\n",
      "3.0\n",
      "0.0\n"
     ]
    }
   ],
   "source": [
    "def process_Z(y_like, idx):\n",
    "    y_like[np.where(y_like!=idx)[0]]=0\n",
    "    return y_like\n",
    "\n",
    "with open('data_training.npy', 'rb') as fileTrain:\n",
    "    X  = np.load(fileTrain)\n",
    "    \n",
    "with open('label_training.npy', 'rb') as fileTrainL:\n",
    "    Y  = np.load(fileTrainL)\n",
    "print(Y.shape)\n",
    "# print('min_0:',np.min(Y[:,0]))\n",
    "# print('max_0:',np.max(Y[:,0]))\n",
    "# print('min_1:',np.min(Y[:,1]))\n",
    "# print('max_1:',np.max(Y[:,1]))\n",
    "# print('min_2:',np.min(Y[:,2]))\n",
    "# print('max_2:',np.max(Y[:,2]))\n",
    "# print('min_3:',np.min(Y[:,3]))\n",
    "# print('max_3:',np.max(Y[:,3]))\n",
    "# Normalize training data (min-max scaling)\n",
    "X_normalized = normalize(X, norm='max', axis=0)  # Normalize along axis 0 (features)\n",
    "\n",
    "pre_Z= process_Z(Y[:,[3]],3)\n",
    "\n",
    "print(np.max(pre_Z))\n",
    "print(np.min(pre_Z))\n",
    "Z = np.ravel(pre_Z)  # 扁平化 \n",
    "# Z = np.ravel(Y[:, [3]])  # 扁平化    \n",
    "# X = normalize(X)\n",
    "# Z = np.ravel(Y[:, [3]])\n",
    "\n",
    "Arousal_Train = np.ravel(Y[:, [0]])\n",
    "Valence_Train = np.ravel(Y[:, [1]])\n",
    "Domain_Train = np.ravel(Y[:, [2]])\n",
    "Like_Train = np.ravel(Y[:, [3]])\n",
    "# unique, counts = np.unique(label, return_counts=True)\n",
    "# label_dist = dict(zip(unique, counts))\n",
    "# print(label_dist)"
   ]
  },
  {
   "cell_type": "code",
   "execution_count": 80,
   "metadata": {
    "colab": {
     "base_uri": "https://localhost:8080/",
     "height": 34
    },
    "colab_type": "code",
    "id": "O-kXkIKo_3eY",
    "outputId": "2203a618-1308-424a-a361-9d0f4ed39424"
   },
   "outputs": [
    {
     "data": {
      "text/plain": [
       "(468480, 5)"
      ]
     },
     "execution_count": 80,
     "metadata": {},
     "output_type": "execute_result"
    }
   ],
   "source": [
    "X.shape"
   ]
  },
  {
   "cell_type": "code",
   "execution_count": 81,
   "metadata": {
    "colab": {
     "base_uri": "https://localhost:8080/",
     "height": 136
    },
    "colab_type": "code",
    "id": "u7QbIvJF_7YH",
    "outputId": "4338dfe0-99c3-42ac-8198-4b731f16ee9b"
   },
   "outputs": [
    {
     "data": {
      "text/plain": [
       "array([[1., 0., 0., 0.],\n",
       "       [1., 0., 0., 0.],\n",
       "       [1., 0., 0., 0.],\n",
       "       ...,\n",
       "       [1., 0., 0., 0.],\n",
       "       [1., 0., 0., 0.],\n",
       "       [1., 0., 0., 0.]], dtype=float32)"
      ]
     },
     "execution_count": 81,
     "metadata": {},
     "output_type": "execute_result"
    }
   ],
   "source": [
    "# from keras.utils import to_categorical\n",
    "from keras.utils.np_utils import to_categorical\n",
    "\n",
    "y_train = to_categorical(Z)\n",
    "y_train"
   ]
  },
  {
   "cell_type": "code",
   "execution_count": 82,
   "metadata": {
    "colab": {
     "base_uri": "https://localhost:8080/",
     "height": 34
    },
    "colab_type": "code",
    "id": "vz6DyN6i4Ten",
    "outputId": "7b13e53b-8d4f-4901-da25-f45c3bfc5c67"
   },
   "outputs": [
    {
     "data": {
      "text/plain": [
       "(468480, 4)"
      ]
     },
     "execution_count": 82,
     "metadata": {},
     "output_type": "execute_result"
    }
   ],
   "source": [
    "y_train.shape"
   ]
  },
  {
   "cell_type": "code",
   "execution_count": 83,
   "metadata": {
    "colab": {},
    "colab_type": "code",
    "id": "n2nbzExFABT9"
   },
   "outputs": [],
   "source": [
    "x_train = np.array(X[:])"
   ]
  },
  {
   "cell_type": "code",
   "execution_count": 84,
   "metadata": {
    "colab": {},
    "colab_type": "code",
    "id": "ooCmmlGRAFkv"
   },
   "outputs": [
    {
     "name": "stdout",
     "output_type": "stream",
     "text": [
      "3.0\n",
      "0.0\n"
     ]
    }
   ],
   "source": [
    "def process_L(y_like, idx):\n",
    "    y_like[np.where(y_like!=idx)[0]]=0\n",
    "    return y_like\n",
    "with open('data_testing.npy', 'rb') as fileTrain:\n",
    "    M  = np.load(fileTrain)\n",
    "    \n",
    "with open('label_testing.npy', 'rb') as fileTrainL:\n",
    "    N  = np.load(fileTrainL)\n",
    "\n",
    "# M = normalize(M)\n",
    "# L = np.ravel(N[:, [3]])\n",
    "#M = normalize(M)\n",
    "# Normalize validation data (min-max scaling)\n",
    "M_normalized = normalize(M, norm='max', axis=0)  # Normalize along axis 0 (features)\n",
    "\n",
    "pre_L= process_L(N[:,[3]],3)\n",
    "print(np.max(pre_L))\n",
    "print(np.min(pre_L))\n",
    "L = np.ravel(pre_L)  # arousa标签\n",
    "# L = np.ravel(N[:, [3]])  # arousa标签\n",
    "\n",
    "Arousal_Test = np.ravel(N[:, [0]])\n",
    "Valence_Test = np.ravel(N[:, [1]])\n",
    "Domain_Test = np.ravel(N[:, [2]])\n",
    "Like_Test = np.ravel(N[:, [3]])"
   ]
  },
  {
   "cell_type": "code",
   "execution_count": 85,
   "metadata": {
    "colab": {},
    "colab_type": "code",
    "id": "m4sxtvpQAOhK"
   },
   "outputs": [],
   "source": [
    "x_test = np.array(M[:])"
   ]
  },
  {
   "cell_type": "code",
   "execution_count": 86,
   "metadata": {
    "colab": {
     "base_uri": "https://localhost:8080/",
     "height": 136
    },
    "colab_type": "code",
    "id": "r2RKm9KgASb4",
    "outputId": "e492f6fa-ef9b-43c6-bfac-57993ddb11ba"
   },
   "outputs": [
    {
     "data": {
      "text/plain": [
       "array([[1., 0., 0., 0.],\n",
       "       [1., 0., 0., 0.],\n",
       "       [1., 0., 0., 0.],\n",
       "       ...,\n",
       "       [1., 0., 0., 0.],\n",
       "       [1., 0., 0., 0.],\n",
       "       [1., 0., 0., 0.]], dtype=float32)"
      ]
     },
     "execution_count": 86,
     "metadata": {},
     "output_type": "execute_result"
    }
   ],
   "source": [
    "# from keras.utils import to_categorical\n",
    "from keras.utils.np_utils import to_categorical\n",
    "y_test = to_categorical(L)\n",
    "y_test"
   ]
  },
  {
   "cell_type": "code",
   "execution_count": 87,
   "metadata": {
    "colab": {
     "base_uri": "https://localhost:8080/",
     "height": 34
    },
    "colab_type": "code",
    "id": "UmwAfzADsRe1",
    "outputId": "42cae56a-6847-4610-b4ca-f967a33ebaf7"
   },
   "outputs": [
    {
     "data": {
      "text/plain": [
       "array([1., 0., 0., 0.], dtype=float32)"
      ]
     },
     "execution_count": 87,
     "metadata": {},
     "output_type": "execute_result"
    }
   ],
   "source": [
    "y_test[1]"
   ]
  },
  {
   "cell_type": "code",
   "execution_count": 88,
   "metadata": {
    "colab": {},
    "colab_type": "code",
    "id": "rKnp-c5EAVGJ"
   },
   "outputs": [],
   "source": [
    "from sklearn.preprocessing import StandardScaler\n",
    "scaler = StandardScaler()\n",
    "x_train = scaler.fit_transform(x_train)\n",
    "x_test = scaler.fit_transform(x_test)"
   ]
  },
  {
   "cell_type": "code",
   "execution_count": 89,
   "metadata": {
    "colab": {},
    "colab_type": "code",
    "id": "WC6VSZLUBCiS"
   },
   "outputs": [],
   "source": [
    "x_train = x_train.reshape(x_train.shape[0],x_train.shape[1], 1)\n",
    "x_test = x_test.reshape(x_test.shape[0],x_test.shape[1], 1)"
   ]
  },
  {
   "cell_type": "code",
   "execution_count": 90,
   "metadata": {
    "colab": {
     "base_uri": "https://localhost:8080/",
     "height": 34
    },
    "colab_type": "code",
    "id": "F3CYMY96BE0i",
    "outputId": "56f151e1-4601-484d-83d8-00feb04b6932"
   },
   "outputs": [
    {
     "data": {
      "text/plain": [
       "(468480, 5, 1)"
      ]
     },
     "execution_count": 90,
     "metadata": {},
     "output_type": "execute_result"
    }
   ],
   "source": [
    "x_train.shape"
   ]
  },
  {
   "cell_type": "code",
   "execution_count": 97,
   "metadata": {
    "colab": {},
    "colab_type": "code",
    "id": "V8NOrABgBWzf"
   },
   "outputs": [],
   "source": [
    "batch_size = 256\n",
    "num_classes = 4\n",
    "epochs = 30\n",
    "input_shape=(x_train.shape[1], 1)"
   ]
  },
  {
   "cell_type": "code",
   "execution_count": 98,
   "metadata": {
    "colab": {
     "base_uri": "https://localhost:8080/",
     "height": 34
    },
    "colab_type": "code",
    "id": "_W9u_IH6BaaS",
    "outputId": "f3bd44bf-863c-4f50-9cca-82d8c6b4a857"
   },
   "outputs": [
    {
     "name": "stdout",
     "output_type": "stream",
     "text": [
      "(5, 1)\n"
     ]
    }
   ],
   "source": [
    "print(input_shape)"
   ]
  },
  {
   "cell_type": "code",
   "execution_count": 99,
   "metadata": {
    "colab": {},
    "colab_type": "code",
    "id": "FrpmQ4QWBc4_"
   },
   "outputs": [],
   "source": [
    "from keras.layers import Convolution1D, ZeroPadding1D, MaxPooling1D, BatchNormalization, Activation, Dropout, Flatten, Dense\n",
    "from keras.regularizers import l2\n",
    "from keras.models import Sequential\n",
    "from keras.layers import Conv1D, BatchNormalization, MaxPooling1D, Dense, Flatten, Dropout\n"
   ]
  },
  {
   "cell_type": "code",
   "execution_count": 100,
   "metadata": {
    "colab": {
     "base_uri": "https://localhost:8080/",
     "height": 697
    },
    "colab_type": "code",
    "id": "2B1ezppYCOhJ",
    "outputId": "4e549dc4-47cf-4ea0-f862-a795257f375b"
   },
   "outputs": [
    {
     "name": "stdout",
     "output_type": "stream",
     "text": [
      "Model: \"sequential_6\"\n",
      "_________________________________________________________________\n",
      " Layer (type)                Output Shape              Param #   \n",
      "=================================================================\n",
      " conv1d_36 (Conv1D)          (None, 5, 64)             256       \n",
      "                                                                 \n",
      " batch_normalization_36 (Bat  (None, 5, 64)            256       \n",
      " chNormalization)                                                \n",
      "                                                                 \n",
      " conv1d_37 (Conv1D)          (None, 5, 128)            24704     \n",
      "                                                                 \n",
      " batch_normalization_37 (Bat  (None, 5, 128)           512       \n",
      " chNormalization)                                                \n",
      "                                                                 \n",
      " conv1d_38 (Conv1D)          (None, 3, 256)            98560     \n",
      "                                                                 \n",
      " batch_normalization_38 (Bat  (None, 3, 256)           1024      \n",
      " chNormalization)                                                \n",
      "                                                                 \n",
      " conv1d_39 (Conv1D)          (None, 3, 256)            196864    \n",
      "                                                                 \n",
      " batch_normalization_39 (Bat  (None, 3, 256)           1024      \n",
      " chNormalization)                                                \n",
      "                                                                 \n",
      " conv1d_40 (Conv1D)          (None, 2, 512)            393728    \n",
      "                                                                 \n",
      " batch_normalization_40 (Bat  (None, 2, 512)           2048      \n",
      " chNormalization)                                                \n",
      "                                                                 \n",
      " conv1d_41 (Conv1D)          (None, 2, 512)            786944    \n",
      "                                                                 \n",
      " batch_normalization_41 (Bat  (None, 2, 512)           2048      \n",
      " chNormalization)                                                \n",
      "                                                                 \n",
      " flatten_6 (Flatten)         (None, 1024)              0         \n",
      "                                                                 \n",
      " dense_12 (Dense)            (None, 128)               131200    \n",
      "                                                                 \n",
      " dropout_6 (Dropout)         (None, 128)               0         \n",
      "                                                                 \n",
      " dense_13 (Dense)            (None, 4)                 516       \n",
      "                                                                 \n",
      "=================================================================\n",
      "Total params: 1,639,684\n",
      "Trainable params: 1,636,228\n",
      "Non-trainable params: 3,456\n",
      "_________________________________________________________________\n"
     ]
    }
   ],
   "source": [
    "# intput_shape=(x_train.shape[1], 1)\n",
    "# model.add(Conv1D(128, kernel_size=3,padding = 'same',activation='relu', input_shape=input_shape))\n",
    "# model.add(BatchNormalization())\n",
    "# model.add(MaxPooling1D(pool_size=(2)))\n",
    "# model.add(Conv1D(128,kernel_size=3,padding = 'same', activation='relu'))\n",
    "# model.add(BatchNormalization())\n",
    "# model.add(MaxPooling1D(pool_size=(2)))\n",
    "# model.add(Conv1D(64,kernel_size=3,padding = 'same', activation='relu'))\n",
    "# model.add(MaxPooling1D(pool_size=(2)))\n",
    "# model.add(Flatten())\n",
    "# model.add(Dense(64, activation='tanh'))\n",
    "# model.add(Dropout(0.2))\n",
    "# model.add(Dense(32, activation='tanh'))\n",
    "# model.add(Dropout(0.2))\n",
    "# model.add(Dense(16, activation='relu'))\n",
    "# model.add(Dropout(0.2))\n",
    "# model.add(Dense(num_classes, activation='softmax'))\n",
    "input_shape = (x_train.shape[1], x_train.shape[2])\n",
    "\n",
    "model = Sequential()\n",
    "model.add(Conv1D(64, kernel_size=3, padding='same', activation='relu', input_shape=input_shape))\n",
    "model.add(BatchNormalization())\n",
    "model.add(Conv1D(128, kernel_size=3, padding='same', activation='relu'))\n",
    "model.add(BatchNormalization())\n",
    "model.add(Conv1D(256, kernel_size=3, padding='same', activation='relu', strides=2))\n",
    "model.add(BatchNormalization())\n",
    "model.add(Conv1D(256, kernel_size=3, padding='same', activation='relu'))\n",
    "model.add(BatchNormalization())\n",
    "model.add(Conv1D(512, kernel_size=3, padding='same', activation='relu', strides=2))\n",
    "model.add(BatchNormalization())\n",
    "model.add(Conv1D(512, kernel_size=3, padding='same', activation='relu'))\n",
    "model.add(BatchNormalization())\n",
    "model.add(Flatten())\n",
    "model.add(Dense(128, activation='tanh'))\n",
    "model.add(Dropout(0.5))\n",
    "model.add(Dense(num_classes, activation='softmax'))\n",
    "\n",
    "model.summary()\n"
   ]
  },
  {
   "cell_type": "code",
   "execution_count": 101,
   "metadata": {
    "colab": {},
    "colab_type": "code",
    "id": "A7abBpBSCY-o"
   },
   "outputs": [],
   "source": [
    "import tensorflow as tf\n",
    "\n",
    "model.compile(loss=tf.keras.losses.categorical_crossentropy,\n",
    "              optimizer='adam',\n",
    "              metrics=['accuracy'])\n",
    "\n",
    "# model.compile(loss=keras.losses.categorical_crossentropy,\n",
    "#               optimizer='adam',\n",
    "#               metrics=['accuracy'])"
   ]
  },
  {
   "cell_type": "code",
   "execution_count": null,
   "metadata": {
    "colab": {
     "base_uri": "https://localhost:8080/",
     "height": 1000
    },
    "colab_type": "code",
    "id": "vaZ4RPIqCfYF",
    "outputId": "1aa93983-a0ea-4b70-b739-2ca6787db588",
    "scrolled": true
   },
   "outputs": [
    {
     "name": "stdout",
     "output_type": "stream",
     "text": [
      "Epoch 1/30\n",
      "  65/1830 [>.............................] - ETA: 1:53 - loss: 0.0682 - accuracy: 0.9832"
     ]
    }
   ],
   "source": [
    "history=model.fit(x_train, y_train,\n",
    "          batch_size=batch_size,\n",
    "          epochs=epochs,  \n",
    "          verbose=1,validation_data=(x_test,y_test))"
   ]
  },
  {
   "cell_type": "code",
   "execution_count": 30,
   "metadata": {
    "colab": {},
    "colab_type": "code",
    "id": "b_eZO6bTFLLX"
   },
   "outputs": [],
   "source": [
    " #Load the library\n",
    "from tensorflow.keras.models import load_model\n",
    "# Save the model using TensorFlow SavedModel format\n",
    "model.save('emotion_re_index_3.h5')"
   ]
  },
  {
   "cell_type": "code",
   "execution_count": null,
   "metadata": {},
   "outputs": [],
   "source": []
  },
  {
   "cell_type": "code",
   "execution_count": 29,
   "metadata": {
    "colab": {
     "base_uri": "https://localhost:8080/",
     "height": 68
    },
    "colab_type": "code",
    "id": "JY7d6VDZCjaO",
    "outputId": "e164f87f-0fd2-4265-af5c-eeaefaa93838"
   },
   "outputs": [
    {
     "name": "stdout",
     "output_type": "stream",
     "text": [
      "2440/2440 [==============================] - 25s 10ms/step - loss: 1.7626 - accuracy: 0.3593\n",
      "Test loss: 1.7626104354858398\n",
      "Test accuracy: 0.3592725396156311\n"
     ]
    }
   ],
   "source": [
    "score = model.evaluate(x_test, y_test, verbose=1)\n",
    "print('Test loss:', score[0])\n",
    "print('Test accuracy:', score[1])"
   ]
  },
  {
   "cell_type": "code",
   "execution_count": 30,
   "metadata": {
    "colab": {
     "base_uri": "https://localhost:8080/",
     "height": 34
    },
    "colab_type": "code",
    "id": "LV_xGFKhDt67",
    "outputId": "98dc9a4b-8c26-4919-a6d0-5220978c86ef"
   },
   "outputs": [
    {
     "name": "stdout",
     "output_type": "stream",
     "text": [
      "dict_keys(['loss', 'accuracy', 'val_loss', 'val_accuracy'])\n"
     ]
    }
   ],
   "source": [
    "# list all data in history\n",
    "print(history.history.keys())\n",
    "import matplotlib.pyplot as plt\n",
    "import numpy\n"
   ]
  },
  {
   "cell_type": "code",
   "execution_count": 31,
   "metadata": {
    "colab": {
     "base_uri": "https://localhost:8080/",
     "height": 295
    },
    "colab_type": "code",
    "id": "dDQGSy8xFoob",
    "outputId": "24af81b3-8364-4fab-c94d-c4619018f932"
   },
   "outputs": [
    {
     "data": {
      "image/png": "[encoded data removed]",
      "text/plain": [
       "<Figure size 640x480 with 1 Axes>"
      ]
     },
     "metadata": {},
     "output_type": "display_data"
    }
   ],
   "source": [
    "# summarize history for accuracy\n",
    "plt.plot(history.history['accuracy'])\n",
    "plt.plot(history.history['val_accuracy'])\n",
    "plt.title('model accuracy')\n",
    "plt.ylabel('accuracy')\n",
    "plt.xlabel('epoch')\n",
    "plt.legend(['train', 'test'], loc='upper left')\n",
    "plt.show()"
   ]
  },
  {
   "cell_type": "code",
   "execution_count": 32,
   "metadata": {
    "colab": {
     "base_uri": "https://localhost:8080/",
     "height": 295
    },
    "colab_type": "code",
    "id": "Fgg6gD0BFnZS",
    "outputId": "7367a413-dc15-4a48-cbf4-063c4e33f081"
   },
   "outputs": [
    {
     "data": {
      "image/png": "[encoded data removed]",
      "text/plain": [
       "<Figure size 640x480 with 1 Axes>"
      ]
     },
     "metadata": {},
     "output_type": "display_data"
    }
   ],
   "source": [
    "# summarize history for loss\n",
    "plt.plot(history.history['loss'])\n",
    "plt.plot(history.history['val_loss'])\n",
    "plt.title('model loss')\n",
    "plt.ylabel('loss')\n",
    "plt.xlabel('epoch')\n",
    "plt.legend(['train', 'test'], loc='upper left')\n",
    "plt.show()"
   ]
  },
  {
   "cell_type": "code",
   "execution_count": 26,
   "metadata": {
    "colab": {
     "base_uri": "https://localhost:8080/",
     "height": 295
    },
    "colab_type": "code",
    "id": "xZwaY3SeKnJb",
    "outputId": "5abfa20e-533b-425a-c5fa-ecfb488f9fdc"
   },
   "outputs": [
    {
     "data": {
      "image/png": "[encoded data removed]",
      "text/plain": [
       "<Figure size 640x480 with 1 Axes>"
      ]
     },
     "metadata": {},
     "output_type": "display_data"
    }
   ],
   "source": [
    "plt.plot(history.history['val_accuracy'])\n",
    "plt.plot(history.history['val_loss'])\n",
    "plt.title('test model')\n",
    "plt.ylabel('test accuracy')\n",
    "plt.xlabel('test loss')\n",
    "plt.show()"
   ]
  },
  {
   "cell_type": "code",
   "execution_count": 33,
   "metadata": {
    "colab": {},
    "colab_type": "code",
    "id": "NGR4wrOdL5DF"
   },
   "outputs": [
    {
     "name": "stdout",
     "output_type": "stream",
     "text": [
      "2440/2440 [==============================] - 23s 9ms/step\n"
     ]
    }
   ],
   "source": [
    "y_pred=model.predict(x_test)\n",
    "from sklearn.metrics import confusion_matrix\n",
    "import numpy as np"
   ]
  },
  {
   "cell_type": "code",
   "execution_count": 97,
   "metadata": {
    "colab": {
     "base_uri": "https://localhost:8080/",
     "height": 34
    },
    "colab_type": "code",
    "id": "9y5wCoinVRhi",
    "outputId": "d187cbc5-1968-4be3-95bf-c043b075e2fa"
   },
   "outputs": [
    {
     "data": {
      "text/plain": [
       "array([0., 0., 0., 0., 0., 0., 0., 1., 0., 0.], dtype=float32)"
      ]
     },
     "execution_count": 97,
     "metadata": {
      "tags": []
     },
     "output_type": "execute_result"
    }
   ],
   "source": [
    "y_test[1]"
   ]
  },
  {
   "cell_type": "code",
   "execution_count": 98,
   "metadata": {
    "colab": {
     "base_uri": "https://localhost:8080/",
     "height": 68
    },
    "colab_type": "code",
    "id": "2q13VADTXlQ9",
    "outputId": "69604f0c-c949-4bdb-c980-57e0c3ed5785"
   },
   "outputs": [
    {
     "data": {
      "text/plain": [
       "array([4.7614737e-38, 3.1183075e-07, 0.0000000e+00, 4.4039957e-08,\n",
       "       1.4481380e-11, 2.0261881e-05, 9.3925128e-06, 9.9996865e-01,\n",
       "       5.1518407e-07, 8.2126684e-07], dtype=float32)"
      ]
     },
     "execution_count": 98,
     "metadata": {
      "tags": []
     },
     "output_type": "execute_result"
    }
   ],
   "source": [
    "y_pred[1]"
   ]
  },
  {
   "cell_type": "code",
   "execution_count": 99,
   "metadata": {
    "colab": {},
    "colab_type": "code",
    "id": "ilOzv9RdVOtg"
   },
   "outputs": [],
   "source": [
    "y_test1=np.argmax(y_test, axis=1)"
   ]
  },
  {
   "cell_type": "code",
   "execution_count": 100,
   "metadata": {
    "colab": {},
    "colab_type": "code",
    "id": "Pvkh6dE6XzNa"
   },
   "outputs": [],
   "source": [
    "y_pred=np.argmax(y_pred,axis=1)"
   ]
  },
  {
   "cell_type": "code",
   "execution_count": 101,
   "metadata": {
    "colab": {
     "base_uri": "https://localhost:8080/",
     "height": 34
    },
    "colab_type": "code",
    "id": "wLOOyigNaJke",
    "outputId": "a382c1af-6a22-4a5f-f542-ef74165f747a"
   },
   "outputs": [
    {
     "data": {
      "text/plain": [
       "7"
      ]
     },
     "execution_count": 101,
     "metadata": {
      "tags": []
     },
     "output_type": "execute_result"
    }
   ],
   "source": [
    "y_test1[1]"
   ]
  },
  {
   "cell_type": "code",
   "execution_count": 102,
   "metadata": {
    "colab": {
     "base_uri": "https://localhost:8080/",
     "height": 34
    },
    "colab_type": "code",
    "id": "0f968lExaSRS",
    "outputId": "16766b47-ef0b-4e7e-8654-4e67931c0b7c"
   },
   "outputs": [
    {
     "data": {
      "text/plain": [
       "7"
      ]
     },
     "execution_count": 102,
     "metadata": {
      "tags": []
     },
     "output_type": "execute_result"
    }
   ],
   "source": [
    "y_pred[1]"
   ]
  },
  {
   "cell_type": "code",
   "execution_count": 103,
   "metadata": {
    "colab": {},
    "colab_type": "code",
    "id": "45fHlde5OtWn"
   },
   "outputs": [],
   "source": [
    "cmatrix=confusion_matrix(y_test1, y_pred)"
   ]
  },
  {
   "cell_type": "code",
   "execution_count": 104,
   "metadata": {
    "colab": {
     "base_uri": "https://localhost:8080/",
     "height": 599
    },
    "colab_type": "code",
    "id": "7p70V5JCRyvZ",
    "outputId": "953b41ed-59e4-47d6-ca74-e42b51a77893"
   },
   "outputs": [
    {
     "data": {
      "image/png": "[encoded data removed]",
      "text/plain": [
       "<Figure size 576x576 with 2 Axes>"
      ]
     },
     "metadata": {
      "needs_background": "light",
      "tags": []
     },
     "output_type": "display_data"
    }
   ],
   "source": [
    "import seaborn as sns\n",
    "figure = plt.figure(figsize=(8, 8))\n",
    "sns.heatmap(cmatrix, annot=True,cmap=plt.cm.Blues)\n",
    "plt.tight_layout()\n",
    "plt.ylabel('True label')\n",
    "plt.xlabel('Predicted label')\n",
    "plt.show()"
   ]
  }
 ],
 "metadata": {
  "accelerator": "GPU",
  "colab": {
   "authorship_tag": "ABX9TyO9VNqlKykHC7VfTzDcU+Lp",
   "include_colab_link": true,
   "mount_file_id": "1LeZkrW09ga4HKkeXoMVmHqCiQRZb4BKO",
   "name": "Emotion recognition from brain signals using CNN.ipynb",
   "provenance": []
  },
  "kernelspec": {
   "display_name": "Python 3 (ipykernel)",
   "language": "python",
   "name": "python3"
  },
  "language_info": {
   "codemirror_mode": {
    "name": "ipython",
    "version": 3
   },
   "file_extension": ".py",
   "mimetype": "text/x-python",
   "name": "python",
   "nbconvert_exporter": "python",
   "pygments_lexer": "ipython3",
   "version": "3.8.16"
  }
 },
 "nbformat": 4,
 "nbformat_minor": 1
}
